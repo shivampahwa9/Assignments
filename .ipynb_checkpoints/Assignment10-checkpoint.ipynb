{
 "cells": [
  {
   "cell_type": "code",
   "execution_count": 1,
   "metadata": {},
   "outputs": [],
   "source": [
    "import pandas as pd\n",
    "import numpy as np\n",
    "import matplotlib.pyplot as plt\n",
    "import seaborn as sns \n",
    "%matplotlib inline"
   ]
  },
  {
   "cell_type": "code",
   "execution_count": 46,
   "metadata": {},
   "outputs": [],
   "source": [
    "from sklearn.datasets import load_digits\n",
    "from sklearn.model_selection import train_test_split\n",
    "from sklearn.linear_model import LogisticRegression\n",
    "from sklearn import model_selection\n",
    "from sklearn.metrics import confusion_matrix\n",
    "from sklearn.linear_model import LinearRegression\n",
    "from sklearn.metrics import classification_report\n",
    "from sklearn.metrics import mean_absolute_error\n",
    "from sklearn.metrics import mean_squared_error"
   ]
  },
  {
   "cell_type": "code",
   "execution_count": 8,
   "metadata": {},
   "outputs": [],
   "source": [
    "df=load_digits()"
   ]
  },
  {
   "cell_type": "code",
   "execution_count": 9,
   "metadata": {},
   "outputs": [],
   "source": [
    "x=df.data"
   ]
  },
  {
   "cell_type": "code",
   "execution_count": 10,
   "metadata": {},
   "outputs": [],
   "source": [
    "y=df.target"
   ]
  },
  {
   "cell_type": "code",
   "execution_count": 11,
   "metadata": {},
   "outputs": [],
   "source": [
    "x=pd.DataFrame(x)"
   ]
  },
  {
   "cell_type": "code",
   "execution_count": 12,
   "metadata": {},
   "outputs": [],
   "source": [
    "y=pd.DataFrame(y)"
   ]
  },
  {
   "cell_type": "code",
   "execution_count": 17,
   "metadata": {},
   "outputs": [
    {
     "data": {
      "text/html": [
       "<div>\n",
       "<style scoped>\n",
       "    .dataframe tbody tr th:only-of-type {\n",
       "        vertical-align: middle;\n",
       "    }\n",
       "\n",
       "    .dataframe tbody tr th {\n",
       "        vertical-align: top;\n",
       "    }\n",
       "\n",
       "    .dataframe thead th {\n",
       "        text-align: right;\n",
       "    }\n",
       "</style>\n",
       "<table border=\"1\" class=\"dataframe\">\n",
       "  <thead>\n",
       "    <tr style=\"text-align: right;\">\n",
       "      <th></th>\n",
       "      <th>0</th>\n",
       "      <th>1</th>\n",
       "      <th>2</th>\n",
       "      <th>3</th>\n",
       "      <th>4</th>\n",
       "      <th>5</th>\n",
       "      <th>6</th>\n",
       "      <th>7</th>\n",
       "      <th>8</th>\n",
       "      <th>9</th>\n",
       "      <th>...</th>\n",
       "      <th>54</th>\n",
       "      <th>55</th>\n",
       "      <th>56</th>\n",
       "      <th>57</th>\n",
       "      <th>58</th>\n",
       "      <th>59</th>\n",
       "      <th>60</th>\n",
       "      <th>61</th>\n",
       "      <th>62</th>\n",
       "      <th>63</th>\n",
       "    </tr>\n",
       "  </thead>\n",
       "  <tbody>\n",
       "    <tr>\n",
       "      <th>0</th>\n",
       "      <td>0.0</td>\n",
       "      <td>0.0</td>\n",
       "      <td>5.0</td>\n",
       "      <td>13.0</td>\n",
       "      <td>9.0</td>\n",
       "      <td>1.0</td>\n",
       "      <td>0.0</td>\n",
       "      <td>0.0</td>\n",
       "      <td>0.0</td>\n",
       "      <td>0.0</td>\n",
       "      <td>...</td>\n",
       "      <td>0.0</td>\n",
       "      <td>0.0</td>\n",
       "      <td>0.0</td>\n",
       "      <td>0.0</td>\n",
       "      <td>6.0</td>\n",
       "      <td>13.0</td>\n",
       "      <td>10.0</td>\n",
       "      <td>0.0</td>\n",
       "      <td>0.0</td>\n",
       "      <td>0.0</td>\n",
       "    </tr>\n",
       "    <tr>\n",
       "      <th>1</th>\n",
       "      <td>0.0</td>\n",
       "      <td>0.0</td>\n",
       "      <td>0.0</td>\n",
       "      <td>12.0</td>\n",
       "      <td>13.0</td>\n",
       "      <td>5.0</td>\n",
       "      <td>0.0</td>\n",
       "      <td>0.0</td>\n",
       "      <td>0.0</td>\n",
       "      <td>0.0</td>\n",
       "      <td>...</td>\n",
       "      <td>0.0</td>\n",
       "      <td>0.0</td>\n",
       "      <td>0.0</td>\n",
       "      <td>0.0</td>\n",
       "      <td>0.0</td>\n",
       "      <td>11.0</td>\n",
       "      <td>16.0</td>\n",
       "      <td>10.0</td>\n",
       "      <td>0.0</td>\n",
       "      <td>0.0</td>\n",
       "    </tr>\n",
       "    <tr>\n",
       "      <th>2</th>\n",
       "      <td>0.0</td>\n",
       "      <td>0.0</td>\n",
       "      <td>0.0</td>\n",
       "      <td>4.0</td>\n",
       "      <td>15.0</td>\n",
       "      <td>12.0</td>\n",
       "      <td>0.0</td>\n",
       "      <td>0.0</td>\n",
       "      <td>0.0</td>\n",
       "      <td>0.0</td>\n",
       "      <td>...</td>\n",
       "      <td>5.0</td>\n",
       "      <td>0.0</td>\n",
       "      <td>0.0</td>\n",
       "      <td>0.0</td>\n",
       "      <td>0.0</td>\n",
       "      <td>3.0</td>\n",
       "      <td>11.0</td>\n",
       "      <td>16.0</td>\n",
       "      <td>9.0</td>\n",
       "      <td>0.0</td>\n",
       "    </tr>\n",
       "    <tr>\n",
       "      <th>3</th>\n",
       "      <td>0.0</td>\n",
       "      <td>0.0</td>\n",
       "      <td>7.0</td>\n",
       "      <td>15.0</td>\n",
       "      <td>13.0</td>\n",
       "      <td>1.0</td>\n",
       "      <td>0.0</td>\n",
       "      <td>0.0</td>\n",
       "      <td>0.0</td>\n",
       "      <td>8.0</td>\n",
       "      <td>...</td>\n",
       "      <td>9.0</td>\n",
       "      <td>0.0</td>\n",
       "      <td>0.0</td>\n",
       "      <td>0.0</td>\n",
       "      <td>7.0</td>\n",
       "      <td>13.0</td>\n",
       "      <td>13.0</td>\n",
       "      <td>9.0</td>\n",
       "      <td>0.0</td>\n",
       "      <td>0.0</td>\n",
       "    </tr>\n",
       "    <tr>\n",
       "      <th>4</th>\n",
       "      <td>0.0</td>\n",
       "      <td>0.0</td>\n",
       "      <td>0.0</td>\n",
       "      <td>1.0</td>\n",
       "      <td>11.0</td>\n",
       "      <td>0.0</td>\n",
       "      <td>0.0</td>\n",
       "      <td>0.0</td>\n",
       "      <td>0.0</td>\n",
       "      <td>0.0</td>\n",
       "      <td>...</td>\n",
       "      <td>0.0</td>\n",
       "      <td>0.0</td>\n",
       "      <td>0.0</td>\n",
       "      <td>0.0</td>\n",
       "      <td>0.0</td>\n",
       "      <td>2.0</td>\n",
       "      <td>16.0</td>\n",
       "      <td>4.0</td>\n",
       "      <td>0.0</td>\n",
       "      <td>0.0</td>\n",
       "    </tr>\n",
       "  </tbody>\n",
       "</table>\n",
       "<p>5 rows × 64 columns</p>\n",
       "</div>"
      ],
      "text/plain": [
       "    0    1    2     3     4     5    6    7    8    9  ...    54   55   56  \\\n",
       "0  0.0  0.0  5.0  13.0   9.0   1.0  0.0  0.0  0.0  0.0 ...   0.0  0.0  0.0   \n",
       "1  0.0  0.0  0.0  12.0  13.0   5.0  0.0  0.0  0.0  0.0 ...   0.0  0.0  0.0   \n",
       "2  0.0  0.0  0.0   4.0  15.0  12.0  0.0  0.0  0.0  0.0 ...   5.0  0.0  0.0   \n",
       "3  0.0  0.0  7.0  15.0  13.0   1.0  0.0  0.0  0.0  8.0 ...   9.0  0.0  0.0   \n",
       "4  0.0  0.0  0.0   1.0  11.0   0.0  0.0  0.0  0.0  0.0 ...   0.0  0.0  0.0   \n",
       "\n",
       "    57   58    59    60    61   62   63  \n",
       "0  0.0  6.0  13.0  10.0   0.0  0.0  0.0  \n",
       "1  0.0  0.0  11.0  16.0  10.0  0.0  0.0  \n",
       "2  0.0  0.0   3.0  11.0  16.0  9.0  0.0  \n",
       "3  0.0  7.0  13.0  13.0   9.0  0.0  0.0  \n",
       "4  0.0  0.0   2.0  16.0   4.0  0.0  0.0  \n",
       "\n",
       "[5 rows x 64 columns]"
      ]
     },
     "execution_count": 17,
     "metadata": {},
     "output_type": "execute_result"
    }
   ],
   "source": [
    "x.head()"
   ]
  },
  {
   "cell_type": "code",
   "execution_count": 19,
   "metadata": {},
   "outputs": [],
   "source": [
    "X_train,X_test,Y_train,Y_test=train_test_split(x,y,test_size=0.3)"
   ]
  },
  {
   "cell_type": "code",
   "execution_count": 20,
   "metadata": {},
   "outputs": [
    {
     "name": "stderr",
     "output_type": "stream",
     "text": [
      "C:\\Users\\Shivam\\Anaconda3\\lib\\site-packages\\sklearn\\utils\\validation.py:578: DataConversionWarning: A column-vector y was passed when a 1d array was expected. Please change the shape of y to (n_samples, ), for example using ravel().\n",
      "  y = column_or_1d(y, warn=True)\n"
     ]
    },
    {
     "data": {
      "text/plain": [
       "LogisticRegression(C=1.0, class_weight=None, dual=False, fit_intercept=True,\n",
       "          intercept_scaling=1, max_iter=100, multi_class='ovr', n_jobs=1,\n",
       "          penalty='l2', random_state=None, solver='liblinear', tol=0.0001,\n",
       "          verbose=0, warm_start=False)"
      ]
     },
     "execution_count": 20,
     "metadata": {},
     "output_type": "execute_result"
    }
   ],
   "source": [
    "reg=LogisticRegression()\n",
    "reg.fit(X_train,Y_train)"
   ]
  },
  {
   "cell_type": "code",
   "execution_count": 21,
   "metadata": {},
   "outputs": [],
   "source": [
    "pred=reg.predict(X_test)"
   ]
  },
  {
   "cell_type": "code",
   "execution_count": 22,
   "metadata": {},
   "outputs": [
    {
     "data": {
      "text/plain": [
       "array([6, 4, 4, 2, 7, 6, 5, 5, 9, 6, 2, 0, 5, 9, 7, 3, 2, 4, 4, 3, 2, 8,\n",
       "       0, 0, 7, 5, 9, 5, 9, 6, 0, 9, 8, 4, 3, 0, 7, 4, 6, 8, 2, 2, 2, 9,\n",
       "       1, 4, 2, 3, 2, 9, 4, 7, 1, 5, 7, 9, 7, 4, 2, 1, 7, 6, 8, 2, 5, 7,\n",
       "       8, 0, 7, 9, 8, 7, 8, 2, 2, 3, 0, 7, 9, 6, 8, 6, 6, 2, 2, 7, 0, 5,\n",
       "       7, 7, 3, 8, 0, 1, 6, 1, 9, 7, 2, 1, 1, 1, 2, 0, 6, 3, 9, 5, 3, 7,\n",
       "       0, 1, 5, 5, 2, 3, 0, 1, 6, 2, 1, 0, 3, 4, 3, 4, 0, 9, 5, 4, 5, 3,\n",
       "       0, 7, 7, 0, 8, 5, 0, 3, 9, 6, 1, 9, 1, 5, 2, 5, 2, 5, 6, 6, 4, 8,\n",
       "       6, 1, 2, 8, 3, 6, 0, 7, 1, 0, 6, 2, 3, 0, 3, 3, 2, 4, 3, 7, 2, 0,\n",
       "       0, 4, 2, 5, 8, 6, 1, 1, 9, 2, 3, 8, 4, 5, 2, 9, 5, 3, 6, 4, 6, 8,\n",
       "       6, 8, 5, 5, 0, 1, 5, 1, 1, 0, 1, 5, 5, 9, 7, 1, 3, 1, 5, 2, 8, 8,\n",
       "       2, 6, 5, 3, 1, 4, 0, 0, 6, 3, 1, 2, 0, 5, 1, 8, 7, 5, 9, 9, 1, 1,\n",
       "       1, 6, 4, 1, 7, 2, 5, 0, 7, 1, 1, 7, 7, 2, 4, 3, 8, 0, 8, 9, 0, 8,\n",
       "       6, 8, 7, 3, 7, 4, 8, 4, 9, 9, 8, 6, 8, 8, 7, 2, 0, 0, 0, 7, 1, 7,\n",
       "       7, 0, 2, 0, 5, 5, 0, 7, 4, 0, 4, 1, 7, 0, 6, 0, 5, 4, 9, 0, 1, 8,\n",
       "       4, 4, 3, 9, 3, 3, 4, 1, 7, 8, 2, 9, 4, 3, 4, 3, 9, 3, 1, 3, 2, 4,\n",
       "       1, 5, 2, 6, 9, 6, 3, 2, 4, 5, 5, 0, 1, 3, 8, 0, 9, 1, 1, 8, 8, 7,\n",
       "       9, 7, 8, 8, 2, 8, 9, 7, 6, 8, 4, 7, 1, 0, 0, 6, 7, 0, 0, 8, 6, 9,\n",
       "       4, 5, 1, 8, 0, 4, 3, 9, 8, 8, 6, 6, 5, 8, 9, 2, 9, 4, 1, 3, 7, 1,\n",
       "       3, 5, 1, 3, 7, 9, 6, 7, 4, 8, 9, 8, 9, 1, 8, 3, 7, 7, 7, 7, 2, 7,\n",
       "       3, 4, 2, 3, 4, 3, 3, 5, 2, 5, 4, 8, 6, 3, 2, 2, 6, 0, 7, 0, 5, 8,\n",
       "       4, 5, 6, 5, 3, 2, 3, 2, 2, 8, 4, 7, 4, 8, 9, 2, 8, 1, 3, 3, 5, 7,\n",
       "       2, 8, 6, 1, 2, 0, 0, 0, 4, 2, 5, 0, 6, 3, 7, 7, 3, 8, 8, 6, 4, 2,\n",
       "       6, 2, 7, 3, 3, 5, 4, 9, 0, 5, 4, 0, 7, 7, 6, 9, 6, 5, 3, 8, 3, 3,\n",
       "       4, 4, 9, 7, 0, 8, 7, 2, 6, 2, 7, 5, 2, 6, 1, 3, 4, 7, 3, 6, 0, 4,\n",
       "       6, 7, 1, 5, 0, 0, 5, 8, 5, 9, 6, 0])"
      ]
     },
     "execution_count": 22,
     "metadata": {},
     "output_type": "execute_result"
    }
   ],
   "source": [
    "pred"
   ]
  },
  {
   "cell_type": "code",
   "execution_count": 23,
   "metadata": {},
   "outputs": [
    {
     "data": {
      "text/plain": [
       "array([[ 0.00000000e+00, -5.50450345e-02, -1.28324646e-02,\n",
       "         5.34582722e-02, -6.36958143e-02, -3.42045641e-01,\n",
       "        -2.59965340e-01, -2.61197563e-02, -6.89845972e-06,\n",
       "        -1.95427275e-01, -2.82897817e-03,  1.66621801e-01,\n",
       "         1.87906392e-01,  2.73085146e-01, -3.57928620e-02,\n",
       "        -3.99609260e-02, -2.82819127e-03,  3.26901148e-02,\n",
       "         2.00072397e-01, -2.65372877e-02, -4.32794307e-01,\n",
       "         3.02948098e-01, -2.17618307e-02, -7.57727008e-03,\n",
       "        -1.41175546e-03,  2.72939043e-02, -3.97726692e-02,\n",
       "        -1.54402110e-01, -6.29767789e-01,  1.11320358e-02,\n",
       "         4.48232263e-02, -2.05687419e-04,  0.00000000e+00,\n",
       "         2.27710425e-01,  1.30239982e-01, -1.36617826e-01,\n",
       "        -6.06844736e-01, -4.11637078e-02, -7.82915677e-02,\n",
       "         0.00000000e+00, -1.83168695e-03, -4.71853550e-02,\n",
       "         2.03284488e-01, -2.95936220e-01, -2.42716402e-01,\n",
       "        -6.96080512e-03,  1.24664198e-01, -8.13019935e-05,\n",
       "        -1.60587471e-03, -1.38088925e-01,  2.04203481e-02,\n",
       "        -9.80244339e-02,  4.52138909e-02, -2.68631302e-02,\n",
       "        -2.46375889e-01, -7.33955153e-02, -4.40028902e-06,\n",
       "        -4.89483333e-02, -2.36757877e-01,  1.12228025e-01,\n",
       "        -2.90434139e-01, -7.89301914e-02, -1.90498393e-01,\n",
       "        -6.45797643e-02],\n",
       "       [ 0.00000000e+00, -2.79259458e-01,  4.87197490e-02,\n",
       "         6.43423061e-02, -9.41413459e-01,  3.69110128e-01,\n",
       "         1.90669042e-01, -3.44810687e-01, -3.92383076e-05,\n",
       "        -1.10830036e+00, -6.99003308e-01, -9.74163461e-01,\n",
       "        -9.31520946e-02,  4.34445072e-01, -1.06450533e+00,\n",
       "        -5.02195914e-03,  1.91113063e-01,  5.27099970e-01,\n",
       "         2.62159941e-01,  1.04535592e+00,  6.46952969e-01,\n",
       "        -7.70341044e-01,  5.68594245e-01, -2.50773870e-03,\n",
       "         9.55624599e-02,  2.20225350e-01, -1.23709287e-01,\n",
       "         1.91438716e-01,  2.15201867e-03,  4.25050595e-01,\n",
       "        -8.34659988e-01, -2.21243065e-06,  0.00000000e+00,\n",
       "        -2.10462195e-02,  1.11326086e-01, -8.85794988e-02,\n",
       "         2.38040663e-01,  7.71594101e-03, -5.79132755e-01,\n",
       "         0.00000000e+00, -9.64460688e-06, -1.32243406e+00,\n",
       "         8.56244661e-02, -3.95809946e-01,  1.79959303e-01,\n",
       "        -7.01546747e-01, -2.44931006e-01, -4.44777933e-02,\n",
       "        -1.33846916e-03,  9.48313837e-02, -8.16025384e-02,\n",
       "         5.16038407e-01, -1.17358942e-01, -2.68444228e-02,\n",
       "        -4.51406509e-01,  7.27338656e-01, -4.44660100e-04,\n",
       "        -4.30159457e-01, -7.00320912e-02, -3.58718318e-01,\n",
       "         6.41784539e-01,  3.09840329e-02, -4.45880024e-01,\n",
       "         2.47790632e-01],\n",
       "       [ 0.00000000e+00,  5.00075951e-02, -5.50063872e-02,\n",
       "         3.23372786e-03, -5.42117939e-03, -3.36590830e-01,\n",
       "        -1.45292975e-01, -7.83013707e-03, -6.10610556e-04,\n",
       "         2.41920421e-01,  2.54661223e-01, -1.45857515e-01,\n",
       "         1.95497951e-01, -4.67909784e-02, -6.07332652e-02,\n",
       "        -2.11727646e-03,  2.67439919e-05, -1.73975248e-01,\n",
       "         9.22130669e-02, -2.03311139e-01,  1.04826529e-01,\n",
       "        -1.93492213e-02,  4.99691461e-02,  3.25517175e-06,\n",
       "        -1.50146724e-05, -2.59864487e-01, -5.68997716e-01,\n",
       "        -4.90577112e-01, -2.94952837e-01,  1.62901648e-01,\n",
       "         1.22846506e-02,  1.19466857e-06,  0.00000000e+00,\n",
       "        -3.05409729e-01, -4.67512329e-01, -1.80855949e-01,\n",
       "        -1.79604268e-01, -3.12968721e-01, -4.85246766e-01,\n",
       "         0.00000000e+00,  1.18408062e-05,  3.15874995e-02,\n",
       "         7.83412560e-02,  3.75262818e-01, -3.56589466e-01,\n",
       "        -4.09729279e-01, -4.26158509e-01,  1.12164663e-02,\n",
       "         8.24611643e-03,  2.35336187e-01,  6.21278256e-02,\n",
       "         3.81630849e-01,  2.19533427e-01,  2.10618093e-01,\n",
       "         1.88281522e-01,  9.12671360e-02,  2.74249896e-03,\n",
       "         9.35585838e-02, -2.09271615e-02, -2.47349375e-02,\n",
       "         1.79949080e-03,  2.16721971e-01,  2.93772333e-01,\n",
       "        -4.34673007e-02],\n",
       "       [ 0.00000000e+00,  2.43442699e-01, -4.46000853e-01,\n",
       "         6.31569631e-01,  4.76586123e-01,  5.90323580e-02,\n",
       "        -4.84508140e-01,  3.20762357e-02, -2.85396643e-02,\n",
       "        -5.19999014e-01,  8.31635501e-02,  2.19435172e-01,\n",
       "         2.36168596e-01,  4.57943627e-01,  9.22840870e-01,\n",
       "        -2.20500751e-01, -2.26135576e-02,  5.41588100e-01,\n",
       "        -6.18792110e-01, -6.31651814e-01,  9.99205605e-02,\n",
       "        -6.82889773e-01, -7.18593806e-02, -1.34044528e-02,\n",
       "        -2.75442547e-07, -9.48599245e-01, -5.38045132e-01,\n",
       "        -1.55570806e-01,  3.68497965e-01, -7.22875099e-01,\n",
       "        -1.08543811e+00, -8.94386630e-07,  0.00000000e+00,\n",
       "        -7.52158179e-02, -3.24661548e-01,  6.82824877e-02,\n",
       "        -2.76599162e-01,  7.88795594e-02, -5.15544935e-02,\n",
       "         0.00000000e+00, -3.00336426e-06, -1.35615666e-01,\n",
       "        -2.14573745e-01, -8.64281668e-01,  4.67379934e-01,\n",
       "         7.09528449e-01,  4.97460243e-02, -6.78172807e-03,\n",
       "        -4.33472203e-06, -2.84609245e-01, -9.28077670e-02,\n",
       "        -4.02948950e-01, -2.02887129e-01, -2.20483400e-02,\n",
       "         7.08838546e-01, -5.01806201e-01, -6.59562539e-07,\n",
       "         1.10049587e-01,  1.68569529e-01, -5.35294765e-01,\n",
       "         6.94167346e-02, -1.51958489e-01, -2.02031550e-01,\n",
       "        -7.86467858e-01],\n",
       "       [ 0.00000000e+00, -2.94472359e-02, -1.31688158e-01,\n",
       "        -4.90040842e-01, -2.58212676e-01, -2.98944763e-01,\n",
       "        -4.52152580e-01, -2.78248985e-02, -1.44891206e-05,\n",
       "        -4.35083360e-02, -1.60361379e-01, -2.43377445e-01,\n",
       "        -5.31812492e-01, -1.89555441e-01, -2.44736219e-01,\n",
       "         5.06953968e-02, -2.01629057e-04,  6.07465740e-02,\n",
       "         3.08572759e-01,  1.27124247e-01,  3.13189510e-02,\n",
       "         1.59231901e-01,  1.69344576e-02,  7.50494313e-02,\n",
       "        -9.85606484e-05, -1.13777941e-01,  2.83920161e-01,\n",
       "         3.02984666e-03, -4.05803997e-02, -1.12624206e-03,\n",
       "         5.47009353e-01,  4.27978586e-03,  0.00000000e+00,\n",
       "         1.28747156e-01,  8.68250874e-02,  9.77862178e-02,\n",
       "         2.33046131e-01, -1.11993747e-02,  3.75491870e-01,\n",
       "         0.00000000e+00,  2.02667423e-03,  4.77045732e-01,\n",
       "        -1.13250734e-01,  3.41506682e-01,  2.80248803e-01,\n",
       "         2.26866979e-01, -8.33662886e-04, -6.34346109e-04,\n",
       "         2.49281006e-03,  3.24936156e-01, -2.01503553e-01,\n",
       "         6.91046168e-02,  1.08264080e-02, -2.53886355e-01,\n",
       "        -3.80258478e-01, -2.63457623e-03, -2.38845007e-05,\n",
       "         1.02115199e-03, -1.02113643e-01, -3.29881581e-01,\n",
       "        -2.37834017e-01, -3.27452890e-01, -7.67251114e-02,\n",
       "        -1.62020380e-03],\n",
       "       [ 0.00000000e+00,  6.56813548e-02,  6.92309306e-01,\n",
       "        -6.26948855e-01,  8.24857047e-02,  3.29891498e-01,\n",
       "         4.03155867e-01, -7.07921574e-02, -3.58878566e-05,\n",
       "        -1.66818103e-01,  7.17688523e-02,  1.32005532e-01,\n",
       "         6.04065222e-02, -1.55315947e-01, -2.80352130e-01,\n",
       "        -3.23973566e-02, -4.63282476e-02, -2.14528736e-01,\n",
       "         3.27370548e-01,  1.92371237e-01, -5.35923833e-01,\n",
       "        -6.94550078e-01, -8.92036144e-01, -1.26667498e-02,\n",
       "        -2.31552278e-02,  7.70526752e-02,  4.09135319e-01,\n",
       "        -2.33775202e-01,  2.57241444e-01, -2.13103675e-01,\n",
       "        -7.11233392e-01, -2.68100396e-05,  0.00000000e+00,\n",
       "        -2.47567246e-01, -4.97749014e-02, -1.13636088e-01,\n",
       "        -4.92319411e-01,  1.31816404e-01,  3.42838566e-01,\n",
       "         0.00000000e+00, -6.36627771e-04, -1.36953538e-01,\n",
       "        -3.94900386e-01, -3.14195807e-01, -1.75039261e-01,\n",
       "         7.99332401e-02, -7.31200528e-02, -2.44264857e-04,\n",
       "         9.47316225e-06,  1.82300228e-01, -4.07323356e-01,\n",
       "         1.23568908e-01, -2.62547839e-02, -1.31452183e-01,\n",
       "        -5.03531460e-01, -6.52378397e-03,  1.57503466e-06,\n",
       "         4.28583228e-02,  2.09363973e-01,  4.66333215e-01,\n",
       "        -8.92941740e-02,  3.81451543e-02, -5.80704157e-01,\n",
       "        -3.78395189e-02],\n",
       "       [ 0.00000000e+00, -2.04741717e-02, -2.83415613e-01,\n",
       "        -9.08748947e-02, -9.58551988e-02, -1.34059888e-01,\n",
       "        -1.15185242e-01, -6.74333980e-05, -2.03314983e-05,\n",
       "        -2.36410027e-01, -1.87200971e-01, -8.94153153e-02,\n",
       "        -4.71509616e-01,  1.70715503e-02,  9.18956950e-02,\n",
       "        -1.14557090e-04, -2.78513317e-02, -1.13918073e-01,\n",
       "         2.04256209e-01, -9.26053755e-02, -2.97149513e-01,\n",
       "        -8.62000834e-01, -2.95353440e-01, -2.09315135e-04,\n",
       "        -1.39244092e-02,  4.80100940e-02, -3.48658800e-02,\n",
       "         3.01292481e-01, -1.39687536e-01, -1.07939349e-01,\n",
       "        -5.16735591e-01, -1.21851170e-05,  0.00000000e+00,\n",
       "         3.37445427e-01,  5.52711498e-02,  4.13616293e-01,\n",
       "        -2.49324730e-01, -1.61632824e-02, -7.77057091e-02,\n",
       "         0.00000000e+00, -8.76063409e-04, -5.78659311e-01,\n",
       "         5.79398276e-01, -3.76023048e-02, -1.88867445e-02,\n",
       "         5.25819980e-02,  4.73176541e-01,  1.09783832e-01,\n",
       "        -8.87547239e-05, -2.13997712e-01,  4.10608708e-01,\n",
       "         2.81557547e-01, -2.61749813e-01,  2.68222975e-01,\n",
       "         3.48469446e-02, -3.39826778e-01, -4.35636166e-07,\n",
       "        -2.58763224e-02, -4.98729480e-01, -2.46588667e-01,\n",
       "        -3.28416015e-01, -1.59052677e-02, -1.37381058e-01,\n",
       "        -1.48024497e-01],\n",
       "       [ 0.00000000e+00, -1.59857478e-01,  2.77110688e-01,\n",
       "         2.99950612e-01, -1.36413618e-01,  3.78535177e-01,\n",
       "         2.01021398e-01,  2.29389737e-01, -4.54976218e-06,\n",
       "         1.40336877e-01,  1.37634615e-01, -3.37300060e-02,\n",
       "         7.86699972e-01, -1.35481607e-01, -1.57630909e-01,\n",
       "         1.80611777e-01, -8.01644367e-06, -2.97995064e-01,\n",
       "        -3.90738518e-01, -3.84032413e-01, -2.54914914e-01,\n",
       "         3.29859662e-01,  1.39594096e-01,  5.45049039e-02,\n",
       "        -1.71110127e-06, -6.45543388e-01,  3.42364612e-02,\n",
       "        -3.28394383e-01, -1.25235949e-01,  2.15574548e-02,\n",
       "         1.42308676e-01, -1.15985422e-05,  0.00000000e+00,\n",
       "         5.27793517e-01, -2.37240790e-01,  1.14318924e-01,\n",
       "         1.22861470e-01,  9.49443288e-02,  2.17357512e-01,\n",
       "         0.00000000e+00, -1.08854703e-04, -4.72605391e-01,\n",
       "         1.76465697e-01, -9.67273202e-02,  1.16606331e-01,\n",
       "         2.07863800e-01,  1.82774868e-02, -3.57745373e-05,\n",
       "        -2.66606586e-05, -1.50546129e-01,  3.45029195e-02,\n",
       "         1.85586748e-01, -5.83328621e-01, -9.16752157e-01,\n",
       "        -1.83211783e-01, -3.37958924e-04, -6.97164229e-06,\n",
       "        -4.47694423e-01, -4.60592040e-01, -3.59374095e-01,\n",
       "        -1.73235446e-01, -7.18294565e-01, -1.83633670e-01,\n",
       "        -1.14197435e-02],\n",
       "       [ 0.00000000e+00, -1.41652048e-01,  4.43115065e-01,\n",
       "        -2.29162641e-01, -4.05076368e-02,  5.09358433e-02,\n",
       "        -7.00738109e-01, -1.09271069e-02,  1.12884585e+00,\n",
       "        -1.36504063e-01,  1.17649500e-01,  1.10097842e-01,\n",
       "        -1.67759306e-01,  1.52225251e-01,  2.28988559e-01,\n",
       "        -1.71782312e-01, -3.47807488e-01,  2.72481675e-01,\n",
       "         1.72451184e-01,  5.04613268e-02,  6.26590675e-02,\n",
       "         1.08357614e-01,  1.67697235e-01, -1.27853853e-01,\n",
       "        -4.25369751e-01, -2.64864990e-01, -1.08046309e-01,\n",
       "         1.48111841e-01, -1.49925801e-01,  3.79928974e-02,\n",
       "        -1.18151631e-01, -2.09626377e-05,  0.00000000e+00,\n",
       "        -2.59317448e-01, -1.35344652e-01,  3.10931037e-01,\n",
       "        -3.13904207e-02, -1.87949962e-01, -1.29244168e+00,\n",
       "         0.00000000e+00, -1.68918602e-04,  2.12766574e-01,\n",
       "         6.52452581e-02,  1.01624167e-01,  9.34170397e-02,\n",
       "         1.43532665e-01,  4.00678045e-02, -6.64326904e-02,\n",
       "        -8.12444506e-03, -1.53110319e-01,  2.63725657e-01,\n",
       "        -3.26452288e-01, -2.89747560e-01,  1.08064035e-01,\n",
       "        -3.57574720e-02, -1.19360464e-01, -2.70664998e-03,\n",
       "         8.69970483e-02, -8.51670657e-01,  5.57038367e-02,\n",
       "        -3.46712963e-02, -2.12082173e-01, -2.04129711e-01,\n",
       "         1.35622881e-01],\n",
       "       [ 0.00000000e+00, -8.46987426e-01,  1.13689114e-01,\n",
       "         3.38340712e-01, -7.69017716e-02, -1.42825696e-01,\n",
       "        -4.90814247e-01,  1.67426774e-01, -3.60826755e-03,\n",
       "         2.81838081e-01, -7.02321879e-02,  2.27282829e-01,\n",
       "         3.69736126e-02, -2.66532733e-01,  6.85564284e-01,\n",
       "        -8.46371812e-01, -1.56187286e-01,  4.30280389e-01,\n",
       "         4.37393771e-01,  1.58914506e-01,  8.41953548e-02,\n",
       "         7.64140406e-01, -1.10301021e-01, -1.58965502e+00,\n",
       "        -7.62900041e-02, -5.48015759e-01,  3.29087235e-01,\n",
       "         4.18919730e-01, -1.88568695e-01,  3.10027757e-01,\n",
       "         2.14399714e-01, -1.06958658e-03,  0.00000000e+00,\n",
       "        -4.95859001e-01, -2.24207897e-01,  5.31517004e-01,\n",
       "        -1.71924024e-01, -4.09442719e-01,  6.23145907e-02,\n",
       "         0.00000000e+00, -3.05334499e-06, -9.39553610e-01,\n",
       "        -7.78222325e-01, -1.58351329e+00, -7.14250254e-01,\n",
       "        -3.24410256e-01, -1.01696123e-01,  1.90196493e-05,\n",
       "        -3.94144265e-06,  4.88093552e-01, -1.56804881e-01,\n",
       "        -1.32216531e-01, -3.34973444e-01, -3.19493356e-01,\n",
       "        -2.43307920e-01,  1.98986238e-01, -4.68369053e-07,\n",
       "        -9.43227945e-01, -3.63078186e-01, -8.75835988e-02,\n",
       "        -7.69990786e-02, -1.84171951e-01,  2.32735600e-01,\n",
       "        -1.01872567e-01]])"
      ]
     },
     "execution_count": 23,
     "metadata": {},
     "output_type": "execute_result"
    }
   ],
   "source": [
    "reg.coef_"
   ]
  },
  {
   "cell_type": "code",
   "execution_count": 24,
   "metadata": {},
   "outputs": [
    {
     "data": {
      "text/plain": [
       "array([-0.02102668, -0.87747795, -0.03181366, -0.26051518,  0.01580873,\n",
       "       -0.06530717, -0.06166973, -0.01567089, -2.51328893, -0.65314829])"
      ]
     },
     "execution_count": 24,
     "metadata": {},
     "output_type": "execute_result"
    }
   ],
   "source": [
    "reg.intercept_"
   ]
  },
  {
   "cell_type": "markdown",
   "metadata": {},
   "source": [
    "### classification accuracy"
   ]
  },
  {
   "cell_type": "code",
   "execution_count": 28,
   "metadata": {},
   "outputs": [
    {
     "data": {
      "text/plain": [
       "0.9555555555555556"
      ]
     },
     "execution_count": 28,
     "metadata": {},
     "output_type": "execute_result"
    }
   ],
   "source": [
    "reg.score(X_test,Y_test)"
   ]
  },
  {
   "cell_type": "markdown",
   "metadata": {},
   "source": [
    "### kfold"
   ]
  },
  {
   "cell_type": "code",
   "execution_count": 30,
   "metadata": {},
   "outputs": [],
   "source": [
    "KFold= model_selection.KFold(n_splits=10, random_state=7)"
   ]
  },
  {
   "cell_type": "markdown",
   "metadata": {},
   "source": [
    "### logarithmatic loss"
   ]
  },
  {
   "cell_type": "code",
   "execution_count": 32,
   "metadata": {},
   "outputs": [
    {
     "name": "stderr",
     "output_type": "stream",
     "text": [
      "C:\\Users\\Shivam\\Anaconda3\\lib\\site-packages\\sklearn\\utils\\validation.py:578: DataConversionWarning: A column-vector y was passed when a 1d array was expected. Please change the shape of y to (n_samples, ), for example using ravel().\n",
      "  y = column_or_1d(y, warn=True)\n",
      "C:\\Users\\Shivam\\Anaconda3\\lib\\site-packages\\sklearn\\utils\\validation.py:578: DataConversionWarning: A column-vector y was passed when a 1d array was expected. Please change the shape of y to (n_samples, ), for example using ravel().\n",
      "  y = column_or_1d(y, warn=True)\n",
      "C:\\Users\\Shivam\\Anaconda3\\lib\\site-packages\\sklearn\\utils\\validation.py:578: DataConversionWarning: A column-vector y was passed when a 1d array was expected. Please change the shape of y to (n_samples, ), for example using ravel().\n",
      "  y = column_or_1d(y, warn=True)\n",
      "C:\\Users\\Shivam\\Anaconda3\\lib\\site-packages\\sklearn\\utils\\validation.py:578: DataConversionWarning: A column-vector y was passed when a 1d array was expected. Please change the shape of y to (n_samples, ), for example using ravel().\n",
      "  y = column_or_1d(y, warn=True)\n",
      "C:\\Users\\Shivam\\Anaconda3\\lib\\site-packages\\sklearn\\utils\\validation.py:578: DataConversionWarning: A column-vector y was passed when a 1d array was expected. Please change the shape of y to (n_samples, ), for example using ravel().\n",
      "  y = column_or_1d(y, warn=True)\n",
      "C:\\Users\\Shivam\\Anaconda3\\lib\\site-packages\\sklearn\\utils\\validation.py:578: DataConversionWarning: A column-vector y was passed when a 1d array was expected. Please change the shape of y to (n_samples, ), for example using ravel().\n",
      "  y = column_or_1d(y, warn=True)\n",
      "C:\\Users\\Shivam\\Anaconda3\\lib\\site-packages\\sklearn\\utils\\validation.py:578: DataConversionWarning: A column-vector y was passed when a 1d array was expected. Please change the shape of y to (n_samples, ), for example using ravel().\n",
      "  y = column_or_1d(y, warn=True)\n",
      "C:\\Users\\Shivam\\Anaconda3\\lib\\site-packages\\sklearn\\utils\\validation.py:578: DataConversionWarning: A column-vector y was passed when a 1d array was expected. Please change the shape of y to (n_samples, ), for example using ravel().\n",
      "  y = column_or_1d(y, warn=True)\n",
      "C:\\Users\\Shivam\\Anaconda3\\lib\\site-packages\\sklearn\\utils\\validation.py:578: DataConversionWarning: A column-vector y was passed when a 1d array was expected. Please change the shape of y to (n_samples, ), for example using ravel().\n",
      "  y = column_or_1d(y, warn=True)\n",
      "C:\\Users\\Shivam\\Anaconda3\\lib\\site-packages\\sklearn\\utils\\validation.py:578: DataConversionWarning: A column-vector y was passed when a 1d array was expected. Please change the shape of y to (n_samples, ), for example using ravel().\n",
      "  y = column_or_1d(y, warn=True)\n"
     ]
    }
   ],
   "source": [
    "results=model_selection.cross_val_score(reg,x,y,cv=KFold,scoring='neg_log_loss')"
   ]
  },
  {
   "cell_type": "code",
   "execution_count": 33,
   "metadata": {},
   "outputs": [
    {
     "data": {
      "text/plain": [
       "array([-0.45798961, -0.14435058, -0.61749705, -0.27323142, -0.27594697,\n",
       "       -0.12815811, -0.11024468, -0.1233365 , -0.62592303, -0.68553964])"
      ]
     },
     "execution_count": 33,
     "metadata": {},
     "output_type": "execute_result"
    }
   ],
   "source": [
    "results"
   ]
  },
  {
   "cell_type": "markdown",
   "metadata": {},
   "source": [
    "#### R2 metrices"
   ]
  },
  {
   "cell_type": "code",
   "execution_count": 34,
   "metadata": {},
   "outputs": [
    {
     "name": "stderr",
     "output_type": "stream",
     "text": [
      "C:\\Users\\Shivam\\Anaconda3\\lib\\site-packages\\sklearn\\utils\\validation.py:578: DataConversionWarning: A column-vector y was passed when a 1d array was expected. Please change the shape of y to (n_samples, ), for example using ravel().\n",
      "  y = column_or_1d(y, warn=True)\n",
      "C:\\Users\\Shivam\\Anaconda3\\lib\\site-packages\\sklearn\\utils\\validation.py:578: DataConversionWarning: A column-vector y was passed when a 1d array was expected. Please change the shape of y to (n_samples, ), for example using ravel().\n",
      "  y = column_or_1d(y, warn=True)\n",
      "C:\\Users\\Shivam\\Anaconda3\\lib\\site-packages\\sklearn\\utils\\validation.py:578: DataConversionWarning: A column-vector y was passed when a 1d array was expected. Please change the shape of y to (n_samples, ), for example using ravel().\n",
      "  y = column_or_1d(y, warn=True)\n",
      "C:\\Users\\Shivam\\Anaconda3\\lib\\site-packages\\sklearn\\utils\\validation.py:578: DataConversionWarning: A column-vector y was passed when a 1d array was expected. Please change the shape of y to (n_samples, ), for example using ravel().\n",
      "  y = column_or_1d(y, warn=True)\n",
      "C:\\Users\\Shivam\\Anaconda3\\lib\\site-packages\\sklearn\\utils\\validation.py:578: DataConversionWarning: A column-vector y was passed when a 1d array was expected. Please change the shape of y to (n_samples, ), for example using ravel().\n",
      "  y = column_or_1d(y, warn=True)\n",
      "C:\\Users\\Shivam\\Anaconda3\\lib\\site-packages\\sklearn\\utils\\validation.py:578: DataConversionWarning: A column-vector y was passed when a 1d array was expected. Please change the shape of y to (n_samples, ), for example using ravel().\n",
      "  y = column_or_1d(y, warn=True)\n",
      "C:\\Users\\Shivam\\Anaconda3\\lib\\site-packages\\sklearn\\utils\\validation.py:578: DataConversionWarning: A column-vector y was passed when a 1d array was expected. Please change the shape of y to (n_samples, ), for example using ravel().\n",
      "  y = column_or_1d(y, warn=True)\n",
      "C:\\Users\\Shivam\\Anaconda3\\lib\\site-packages\\sklearn\\utils\\validation.py:578: DataConversionWarning: A column-vector y was passed when a 1d array was expected. Please change the shape of y to (n_samples, ), for example using ravel().\n",
      "  y = column_or_1d(y, warn=True)\n",
      "C:\\Users\\Shivam\\Anaconda3\\lib\\site-packages\\sklearn\\utils\\validation.py:578: DataConversionWarning: A column-vector y was passed when a 1d array was expected. Please change the shape of y to (n_samples, ), for example using ravel().\n",
      "  y = column_or_1d(y, warn=True)\n",
      "C:\\Users\\Shivam\\Anaconda3\\lib\\site-packages\\sklearn\\utils\\validation.py:578: DataConversionWarning: A column-vector y was passed when a 1d array was expected. Please change the shape of y to (n_samples, ), for example using ravel().\n",
      "  y = column_or_1d(y, warn=True)\n"
     ]
    }
   ],
   "source": [
    "res=model_selection.cross_val_score(reg,x,y,cv=KFold,scoring='r2')"
   ]
  },
  {
   "cell_type": "code",
   "execution_count": 35,
   "metadata": {},
   "outputs": [
    {
     "data": {
      "text/plain": [
       "array([0.73184699, 0.86942354, 0.81023661, 0.79423609, 0.82434177,\n",
       "       0.94343263, 0.92524112, 0.90725247, 0.60169024, 0.82555495])"
      ]
     },
     "execution_count": 35,
     "metadata": {},
     "output_type": "execute_result"
    }
   ],
   "source": [
    "res"
   ]
  },
  {
   "cell_type": "markdown",
   "metadata": {},
   "source": [
    "### Mean absolute error"
   ]
  },
  {
   "cell_type": "code",
   "execution_count": 39,
   "metadata": {},
   "outputs": [
    {
     "data": {
      "text/plain": [
       "LinearRegression(copy_X=True, fit_intercept=True, n_jobs=1, normalize=False)"
      ]
     },
     "execution_count": 39,
     "metadata": {},
     "output_type": "execute_result"
    }
   ],
   "source": [
    "a=LinearRegression()\n",
    "a.fit(X_train,Y_train)"
   ]
  },
  {
   "cell_type": "code",
   "execution_count": 43,
   "metadata": {},
   "outputs": [],
   "source": [
    "pre=a.predict(X_train)"
   ]
  },
  {
   "cell_type": "code",
   "execution_count": 44,
   "metadata": {},
   "outputs": [
    {
     "data": {
      "text/plain": [
       "array([[4.6025309 ],\n",
       "       [7.86041776],\n",
       "       [8.42083315],\n",
       "       ...,\n",
       "       [5.58213033],\n",
       "       [5.8222989 ],\n",
       "       [6.74600691]])"
      ]
     },
     "execution_count": 44,
     "metadata": {},
     "output_type": "execute_result"
    }
   ],
   "source": [
    "pre"
   ]
  },
  {
   "cell_type": "code",
   "execution_count": 45,
   "metadata": {},
   "outputs": [
    {
     "data": {
      "text/plain": [
       "1.4339586134682252"
      ]
     },
     "execution_count": 45,
     "metadata": {},
     "output_type": "execute_result"
    }
   ],
   "source": [
    "mean_absolute_error(Y_train,pre)"
   ]
  },
  {
   "cell_type": "markdown",
   "metadata": {},
   "source": [
    "### Mean squared error"
   ]
  },
  {
   "cell_type": "code",
   "execution_count": 48,
   "metadata": {},
   "outputs": [
    {
     "data": {
      "text/plain": [
       "3.275194088323122"
      ]
     },
     "execution_count": 48,
     "metadata": {},
     "output_type": "execute_result"
    }
   ],
   "source": [
    "mean_squared_error(Y_train, pre)"
   ]
  },
  {
   "cell_type": "markdown",
   "metadata": {},
   "source": [
    "### Confusion matrix"
   ]
  },
  {
   "cell_type": "code",
   "execution_count": 37,
   "metadata": {},
   "outputs": [
    {
     "name": "stdout",
     "output_type": "stream",
     "text": [
      "[[60  0  0  0  0  1  0  0  0  0]\n",
      " [ 0 43  0  1  0  0  1  0  5  1]\n",
      " [ 0  0 58  1  0  0  0  0  1  0]\n",
      " [ 0  0  0 54  0  1  0  0  0  0]\n",
      " [ 0  3  0  0 51  0  0  0  0  0]\n",
      " [ 0  0  0  0  0 51  0  0  0  0]\n",
      " [ 0  0  0  0  0  0 49  0  0  0]\n",
      " [ 0  0  0  0  0  0  0 62  0  0]\n",
      " [ 0  5  0  1  0  0  0  0 46  0]\n",
      " [ 0  0  0  0  0  0  0  0  3 42]]\n"
     ]
    }
   ],
   "source": [
    "print(confusion_matrix(Y_test,pred))"
   ]
  },
  {
   "cell_type": "markdown",
   "metadata": {},
   "source": [
    "### classification report"
   ]
  },
  {
   "cell_type": "code",
   "execution_count": 41,
   "metadata": {},
   "outputs": [
    {
     "name": "stdout",
     "output_type": "stream",
     "text": [
      "             precision    recall  f1-score   support\n",
      "\n",
      "          0       1.00      0.98      0.99        61\n",
      "          1       0.84      0.84      0.84        51\n",
      "          2       1.00      0.97      0.98        60\n",
      "          3       0.95      0.98      0.96        55\n",
      "          4       1.00      0.94      0.97        54\n",
      "          5       0.96      1.00      0.98        51\n",
      "          6       0.98      1.00      0.99        49\n",
      "          7       1.00      1.00      1.00        62\n",
      "          8       0.84      0.88      0.86        52\n",
      "          9       0.98      0.93      0.95        45\n",
      "\n",
      "avg / total       0.96      0.96      0.96       540\n",
      "\n"
     ]
    }
   ],
   "source": [
    "print(classification_report(Y_test,pred))"
   ]
  },
  {
   "cell_type": "code",
   "execution_count": null,
   "metadata": {},
   "outputs": [],
   "source": []
  }
 ],
 "metadata": {
  "kernelspec": {
   "display_name": "Python 3",
   "language": "python",
   "name": "python3"
  },
  "language_info": {
   "codemirror_mode": {
    "name": "ipython",
    "version": 3
   },
   "file_extension": ".py",
   "mimetype": "text/x-python",
   "name": "python",
   "nbconvert_exporter": "python",
   "pygments_lexer": "ipython3",
   "version": "3.6.4"
  }
 },
 "nbformat": 4,
 "nbformat_minor": 2
}
